{
 "cells": [
  {
   "cell_type": "markdown",
   "id": "b686d2d3",
   "metadata": {},
   "source": [
    "## You are given a string and your task is to swap cases. In other words, convert all lowercase letters to uppercase letters and vice versa."
   ]
  },
  {
   "cell_type": "code",
   "execution_count": 4,
   "id": "e0bf16dd",
   "metadata": {},
   "outputs": [
    {
     "name": "stdout",
     "output_type": "stream",
     "text": [
      "Sanjeev\n",
      "sANJEEV\n"
     ]
    }
   ],
   "source": [
    "def swap_case(s):\n",
    "    swap=\"\"\n",
    "    for char in s:\n",
    "        if char.upper() != char:\n",
    "            swap = swap + char.upper()\n",
    "        elif char.lower()!=char:\n",
    "            swap = swap +char.lower()\n",
    "        else:\n",
    "            swap = swap+char\n",
    "    return swap\n",
    "if __name__==\"__main__\":\n",
    "    s=input()\n",
    "    result=swap_case(s)\n",
    "    print(result)\n",
    "            "
   ]
  },
  {
   "cell_type": "markdown",
   "id": "e768fe17",
   "metadata": {},
   "source": [
    "# You are given a string. Split the string on a \" \" (space) delimiter and join using a - hyphen.\n",
    "\n",
    " ###a = \"this is a string\"\n",
    "###a = a.split(\" \") # a is converted to a list of strings. \n",
    " ###print a\n",
    "###['this', 'is', 'a', 'string']\n",
    "###>>> a = \"-\".join(a)\n",
    "###>>> print a\n",
    "####this-is-a-string "
   ]
  },
  {
   "cell_type": "code",
   "execution_count": 6,
   "id": "fc48220e",
   "metadata": {},
   "outputs": [
    {
     "name": "stdout",
     "output_type": "stream",
     "text": [
      "All are good\n",
      "All-are-good\n"
     ]
    }
   ],
   "source": [
    "def split_and_join(line):\n",
    "    line=line.split(\" \")\n",
    "    line=\"-\".join(line)\n",
    "    return line\n",
    "    \n",
    "\n",
    "if __name__ == '__main__':\n",
    "    line = input()\n",
    "    result = split_and_join(line)\n",
    "    print(result)"
   ]
  },
  {
   "cell_type": "markdown",
   "id": "7d5c4b09",
   "metadata": {},
   "source": [
    "## You are given the firstname and lastname of a person on two different lines. Your task is to read them and print the following:\n",
    "\n",
    "Hello firstname lastname! You just delved into python.`"
   ]
  },
  {
   "cell_type": "code",
   "execution_count": 7,
   "id": "f2b8d6be",
   "metadata": {},
   "outputs": [
    {
     "name": "stdout",
     "output_type": "stream",
     "text": [
      "ross\n",
      "van\n",
      "Hello ross van! You just delved into python.\n"
     ]
    }
   ],
   "source": [
    "def print_full_name(first, last):\n",
    "    print(f'Hello {first} {last}! You just delved into python.')\n",
    "\n",
    "if __name__ == '__main__':\n",
    "    first_name = input()\n",
    "    last_name = input()\n",
    "    print_full_name(first_name, last_name)"
   ]
  },
  {
   "cell_type": "markdown",
   "id": "3b5b52d0",
   "metadata": {},
   "source": [
    "## In this challenge, the user enters a string and a substring. You have to print the number of times that the substring occurs in the given string. String traversal will take place from left to right, not from right to left."
   ]
  },
  {
   "cell_type": "code",
   "execution_count": null,
   "id": "58aa0478",
   "metadata": {},
   "outputs": [],
   "source": []
  },
  {
   "cell_type": "code",
   "execution_count": 8,
   "id": "644c7e7f",
   "metadata": {
    "scrolled": true
   },
   "outputs": [
    {
     "data": {
      "text/plain": [
       "1"
      ]
     },
     "execution_count": 8,
     "metadata": {},
     "output_type": "execute_result"
    }
   ],
   "source": [
    "string=\"siva\"\n",
    "substring=\"i\"\n",
    "string.find(substring)    #This will give index position"
   ]
  },
  {
   "cell_type": "code",
   "execution_count": null,
   "id": "eab3b828",
   "metadata": {},
   "outputs": [],
   "source": [
    "c = 0\n",
    "def count_substring(string, sub_string):\n",
    "    global c  \n",
    "    if(string.find(sub_string) != -1):\n",
    "        c = c +1\n",
    "        count_substring(string[string.find(sub_string)+1:],sub_string)\n",
    "    return c\n",
    "    \n",
    "if __name__ == '__main__':\n",
    "    string = input().strip()\n",
    "    sub_string = input().strip()\n",
    "    \n",
    "    count = count_substring(string, sub_string)\n",
    "    print(count)"
   ]
  },
  {
   "cell_type": "code",
   "execution_count": null,
   "id": "51ce71d9",
   "metadata": {},
   "outputs": [],
   "source": []
  },
  {
   "cell_type": "code",
   "execution_count": 18,
   "id": "62457548",
   "metadata": {},
   "outputs": [
    {
     "name": "stdout",
     "output_type": "stream",
     "text": [
      "siva\n",
      "True\n",
      "True\n",
      "False\n",
      "True\n",
      "False\n"
     ]
    }
   ],
   "source": [
    "if __name__ == '__main__':\n",
    "    s = input()\n",
    "\n",
    "strr = list(s)\n",
    "\n",
    "al_num = False\n",
    "al = False\n",
    "dig = False\n",
    "low = False\n",
    "upp = False\n",
    "\n",
    "for i in strr:\n",
    "    al_num = al_num or i.isalnum() \n",
    "    al  = al or i.isalpha()\n",
    "    dig = dig or i.isdigit()\n",
    "    low = low or i.islower()\n",
    "    upp = upp or i.isupper()\n",
    "\n",
    "print(al_num)\n",
    "print(al)\n",
    "print(dig)\n",
    "print(low)\n",
    "print(upp)"
   ]
  },
  {
   "cell_type": "code",
   "execution_count": null,
   "id": "34b97410",
   "metadata": {},
   "outputs": [],
   "source": []
  }
 ],
 "metadata": {
  "kernelspec": {
   "display_name": "Python 3 (ipykernel)",
   "language": "python",
   "name": "python3"
  },
  "language_info": {
   "codemirror_mode": {
    "name": "ipython",
    "version": 3
   },
   "file_extension": ".py",
   "mimetype": "text/x-python",
   "name": "python",
   "nbconvert_exporter": "python",
   "pygments_lexer": "ipython3",
   "version": "3.9.13"
  }
 },
 "nbformat": 4,
 "nbformat_minor": 5
}
