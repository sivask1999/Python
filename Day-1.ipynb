{
 "cells": [
  {
   "cell_type": "markdown",
   "id": "c343df40",
   "metadata": {},
   "source": [
    "Armstrong Number-Armstrong number is a n digit number which is equal to sum of nth power of its digits"
   ]
  },
  {
   "cell_type": "raw",
   "id": "83e1edcb",
   "metadata": {},
   "source": [
    "example:-5 check whether the number is armstrong number\n",
    "    sol:-number of digits given is one(5)\n",
    "         so n value=1\n",
    "        we need to find the n th power of its digit\n",
    "        5**1=5\n",
    "        0,1,2,3,4,5,6,7,8,9 are armstrong numbers\n",
    "example :-22 checking\n",
    "          number of digits =2\n",
    "        n=2\n",
    "        nth power of its digits\n",
    "        2**2=4 and 2**2=4\n",
    "        add these 4+4=8\n",
    "        this sum(8) is not equal to 22\n",
    "example:-153\n",
    "    number of digits=3\n",
    "    n = 3\n",
    "    1**3\n",
    "    5**3\n",
    "    3**3\n",
    "    3+125+27\n",
    "    153\n",
    "    152 = 153(given number)"
   ]
  },
  {
   "cell_type": "code",
   "execution_count": 20,
   "id": "cc7ea853",
   "metadata": {},
   "outputs": [
    {
     "name": "stdout",
     "output_type": "stream",
     "text": [
      "enter a number:-5\n",
      "the given number is armstrong number\n"
     ]
    }
   ],
   "source": [
    "#write a programme to fin out whether the given number is armstrong number or not?\n",
    "x = int(input(\"enter a number:-\"))\n",
    "z = str(x)\n",
    "n = len(z)\n",
    "sum=0\n",
    "for i in z:\n",
    "    sum=sum+int(i)**n\n",
    "    if sum==x:\n",
    "        print(\"the given number is armstrong number\")\n",
    "    else:\n",
    "        print(\"the given number is not armstrong number\")\n",
    "\n"
   ]
  },
  {
   "cell_type": "code",
   "execution_count": 26,
   "id": "15560149",
   "metadata": {},
   "outputs": [
    {
     "data": {
      "text/plain": [
       "3"
      ]
     },
     "execution_count": 26,
     "metadata": {},
     "output_type": "execute_result"
    }
   ],
   "source": [
    "153%10    #(Modulus will give remainder)"
   ]
  },
  {
   "cell_type": "code",
   "execution_count": 28,
   "id": "a3a996a5",
   "metadata": {},
   "outputs": [
    {
     "data": {
      "text/plain": [
       "15.3"
      ]
     },
     "execution_count": 28,
     "metadata": {},
     "output_type": "execute_result"
    }
   ],
   "source": [
    "153/10     #(Divison will give with float as reminder)"
   ]
  },
  {
   "cell_type": "code",
   "execution_count": 29,
   "id": "90db3785",
   "metadata": {},
   "outputs": [
    {
     "data": {
      "text/plain": [
       "15"
      ]
     },
     "execution_count": 29,
     "metadata": {},
     "output_type": "execute_result"
    }
   ],
   "source": [
    "153//10     #Truncate will give result only in integer format"
   ]
  },
  {
   "cell_type": "code",
   "execution_count": 30,
   "id": "7529d29b",
   "metadata": {},
   "outputs": [
    {
     "data": {
      "text/plain": [
       "5"
      ]
     },
     "execution_count": 30,
     "metadata": {},
     "output_type": "execute_result"
    }
   ],
   "source": [
    "15%10"
   ]
  },
  {
   "cell_type": "code",
   "execution_count": 32,
   "id": "063989a4",
   "metadata": {},
   "outputs": [
    {
     "name": "stdout",
     "output_type": "stream",
     "text": [
      "0\n",
      "1\n",
      "2\n",
      "3\n",
      "4\n",
      "5\n",
      "6\n",
      "7\n",
      "8\n",
      "9\n",
      "153\n",
      "370\n",
      "371\n",
      "407\n"
     ]
    }
   ],
   "source": [
    "#Printing armstrong number from 0 to 1000\n",
    "\n",
    "for i in range(1001):\n",
    "    num=i\n",
    "    result=0\n",
    "    n = len(str(i))  #as we cant use length function on integer so we type casted to string\n",
    "    while(i!=0):\n",
    "        digit=i%10\n",
    "        result = result+digit**n\n",
    "        i=i//10 \n",
    "    if num==result:\n",
    "        print(num)"
   ]
  },
  {
   "cell_type": "code",
   "execution_count": 31,
   "id": "271a9188",
   "metadata": {},
   "outputs": [
    {
     "data": {
      "text/plain": [
       "1"
      ]
     },
     "execution_count": 31,
     "metadata": {},
     "output_type": "execute_result"
    }
   ],
   "source": [
    "1%10"
   ]
  },
  {
   "cell_type": "code",
   "execution_count": null,
   "id": "00a091bc",
   "metadata": {},
   "outputs": [],
   "source": [
    " "
   ]
  }
 ],
 "metadata": {
  "kernelspec": {
   "display_name": "Python 3 (ipykernel)",
   "language": "python",
   "name": "python3"
  },
  "language_info": {
   "codemirror_mode": {
    "name": "ipython",
    "version": 3
   },
   "file_extension": ".py",
   "mimetype": "text/x-python",
   "name": "python",
   "nbconvert_exporter": "python",
   "pygments_lexer": "ipython3",
   "version": "3.9.13"
  }
 },
 "nbformat": 4,
 "nbformat_minor": 5
}
