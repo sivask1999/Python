{
 "cells": [
  {
   "cell_type": "code",
   "execution_count": 1,
   "id": "06c477cf",
   "metadata": {},
   "outputs": [
    {
     "name": "stdout",
     "output_type": "stream",
     "text": [
      "Hello, How are you? \n"
     ]
    }
   ],
   "source": [
    "name = \"Hello, How are you? \"\n",
    "print(name)"
   ]
  },
  {
   "cell_type": "code",
   "execution_count": 2,
   "id": "d57bbd63",
   "metadata": {},
   "outputs": [
    {
     "name": "stdout",
     "output_type": "stream",
     "text": [
      "A\n",
      "B\n",
      "C\n"
     ]
    }
   ],
   "source": [
    "print(\"A\")\n",
    "print(\"B\")\n",
    "print(\"C\")"
   ]
  },
  {
   "cell_type": "code",
   "execution_count": 3,
   "id": "bc22e015",
   "metadata": {},
   "outputs": [],
   "source": [
    "name ='siva'"
   ]
  },
  {
   "cell_type": "code",
   "execution_count": 4,
   "id": "e40daa1d",
   "metadata": {},
   "outputs": [
    {
     "data": {
      "text/plain": [
       "str"
      ]
     },
     "execution_count": 4,
     "metadata": {},
     "output_type": "execute_result"
    }
   ],
   "source": [
    "type(name)"
   ]
  },
  {
   "cell_type": "code",
   "execution_count": 5,
   "id": "3aa83c4d",
   "metadata": {},
   "outputs": [
    {
     "data": {
      "text/plain": [
       "int"
      ]
     },
     "execution_count": 5,
     "metadata": {},
     "output_type": "execute_result"
    }
   ],
   "source": [
    "num=312\n",
    "type(num)"
   ]
  },
  {
   "cell_type": "code",
   "execution_count": 6,
   "id": "e1036266",
   "metadata": {},
   "outputs": [
    {
     "data": {
      "text/plain": [
       "float"
      ]
     },
     "execution_count": 6,
     "metadata": {},
     "output_type": "execute_result"
    }
   ],
   "source": [
    "num= 312.45\n",
    "type(num)"
   ]
  },
  {
   "cell_type": "code",
   "execution_count": 7,
   "id": "76bd02c8",
   "metadata": {},
   "outputs": [
    {
     "data": {
      "text/plain": [
       "bool"
      ]
     },
     "execution_count": 7,
     "metadata": {},
     "output_type": "execute_result"
    }
   ],
   "source": [
    "siva = True\n",
    "type(siva)"
   ]
  },
  {
   "cell_type": "code",
   "execution_count": 8,
   "id": "0fdc084f",
   "metadata": {},
   "outputs": [
    {
     "data": {
      "text/plain": [
       "(4+2j)"
      ]
     },
     "execution_count": 8,
     "metadata": {},
     "output_type": "execute_result"
    }
   ],
   "source": [
    "comp_var = 4+2j\n",
    "comp_var"
   ]
  },
  {
   "cell_type": "code",
   "execution_count": 9,
   "id": "ab8bdfa0",
   "metadata": {},
   "outputs": [
    {
     "data": {
      "text/plain": [
       "23"
      ]
     },
     "execution_count": 9,
     "metadata": {},
     "output_type": "execute_result"
    }
   ],
   "source": [
    "f = 23.45\n",
    "int(f)"
   ]
  },
  {
   "cell_type": "code",
   "execution_count": 10,
   "id": "00884056",
   "metadata": {},
   "outputs": [
    {
     "data": {
      "text/plain": [
       "'31'"
      ]
     },
     "execution_count": 10,
     "metadata": {},
     "output_type": "execute_result"
    }
   ],
   "source": [
    "num = 31\n",
    "str(num)"
   ]
  },
  {
   "cell_type": "code",
   "execution_count": 11,
   "id": "bd55beec",
   "metadata": {},
   "outputs": [
    {
     "data": {
      "text/plain": [
       "51461.777777777774"
      ]
     },
     "execution_count": 11,
     "metadata": {},
     "output_type": "execute_result"
    }
   ],
   "source": [
    "145*354-1345/45+(462+23)/3"
   ]
  },
  {
   "cell_type": "code",
   "execution_count": 12,
   "id": "75084fe6",
   "metadata": {},
   "outputs": [
    {
     "data": {
      "text/plain": [
       "1587"
      ]
     },
     "execution_count": 12,
     "metadata": {},
     "output_type": "execute_result"
    }
   ],
   "source": [
    "1353+234"
   ]
  },
  {
   "cell_type": "code",
   "execution_count": 13,
   "id": "0992deac",
   "metadata": {},
   "outputs": [
    {
     "data": {
      "text/plain": [
       "1989"
      ]
     },
     "execution_count": 13,
     "metadata": {},
     "output_type": "execute_result"
    }
   ],
   "source": [
    "2335-346"
   ]
  },
  {
   "cell_type": "code",
   "execution_count": 14,
   "id": "77b71b54",
   "metadata": {},
   "outputs": [
    {
     "data": {
      "text/plain": [
       "4.166666666666667"
      ]
     },
     "execution_count": 14,
     "metadata": {},
     "output_type": "execute_result"
    }
   ],
   "source": [
    "25/6"
   ]
  },
  {
   "cell_type": "code",
   "execution_count": 16,
   "id": "8c6dba4f",
   "metadata": {},
   "outputs": [
    {
     "data": {
      "text/plain": [
       "1"
      ]
     },
     "execution_count": 16,
     "metadata": {},
     "output_type": "execute_result"
    }
   ],
   "source": [
    "25%6   #percentage gives reminder "
   ]
  },
  {
   "cell_type": "code",
   "execution_count": 17,
   "id": "76af9a69",
   "metadata": {},
   "outputs": [
    {
     "data": {
      "text/plain": [
       "1185921"
      ]
     },
     "execution_count": 17,
     "metadata": {},
     "output_type": "execute_result"
    }
   ],
   "source": [
    "33**4"
   ]
  },
  {
   "cell_type": "code",
   "execution_count": 18,
   "id": "a1c9cbf5",
   "metadata": {},
   "outputs": [
    {
     "data": {
      "text/plain": [
       "7"
      ]
     },
     "execution_count": 18,
     "metadata": {},
     "output_type": "execute_result"
    }
   ],
   "source": [
    "45//6"
   ]
  },
  {
   "cell_type": "code",
   "execution_count": 19,
   "id": "7d7be074",
   "metadata": {},
   "outputs": [
    {
     "data": {
      "text/plain": [
       "1024"
      ]
     },
     "execution_count": 19,
     "metadata": {},
     "output_type": "execute_result"
    }
   ],
   "source": [
    "2**10"
   ]
  },
  {
   "cell_type": "code",
   "execution_count": 20,
   "id": "f1580d89",
   "metadata": {},
   "outputs": [
    {
     "name": "stdout",
     "output_type": "stream",
     "text": [
      "enter your weight70\n",
      "enter your height1.6\n",
      "27.343749999999996\n"
     ]
    }
   ],
   "source": [
    "weight = int(input(\"enter your weight\"))\n",
    "height = float(input(\"enter your height\"))\n",
    "BMI= weight / (height**2)\n",
    "\n",
    "print(BMI)"
   ]
  },
  {
   "cell_type": "code",
   "execution_count": 21,
   "id": "01004176",
   "metadata": {},
   "outputs": [
    {
     "data": {
      "text/plain": [
       "False"
      ]
     },
     "execution_count": 21,
     "metadata": {},
     "output_type": "execute_result"
    }
   ],
   "source": [
    "(54+34)*45 == (0.9*2432)/0.9"
   ]
  },
  {
   "cell_type": "code",
   "execution_count": 22,
   "id": "c65ea795",
   "metadata": {},
   "outputs": [],
   "source": [
    "siva1 = \"vijay\"\n",
    "siva2 =\"krishna\"\n",
    "\n",
    "siva3 = siva1 +\" \"+siva2"
   ]
  },
  {
   "cell_type": "code",
   "execution_count": 23,
   "id": "91ed33f4",
   "metadata": {},
   "outputs": [
    {
     "data": {
      "text/plain": [
       "'vijay krishna'"
      ]
     },
     "execution_count": 23,
     "metadata": {},
     "output_type": "execute_result"
    }
   ],
   "source": [
    "siva3"
   ]
  },
  {
   "cell_type": "code",
   "execution_count": 24,
   "id": "25ec0f02",
   "metadata": {},
   "outputs": [],
   "source": [
    "num = 34 \n",
    "string =\"How old are you?\"\n",
    "\n",
    "result = str(num)+ \" \"+ string"
   ]
  },
  {
   "cell_type": "code",
   "execution_count": 25,
   "id": "611e852b",
   "metadata": {},
   "outputs": [
    {
     "data": {
      "text/plain": [
       "'34 How old are you?'"
      ]
     },
     "execution_count": 25,
     "metadata": {},
     "output_type": "execute_result"
    }
   ],
   "source": [
    "result"
   ]
  },
  {
   "cell_type": "code",
   "execution_count": 26,
   "id": "3cb9251b",
   "metadata": {},
   "outputs": [
    {
     "data": {
      "text/plain": [
       "5"
      ]
     },
     "execution_count": 26,
     "metadata": {},
     "output_type": "execute_result"
    }
   ],
   "source": [
    "country = \"India\"\n",
    "len(country)"
   ]
  },
  {
   "cell_type": "code",
   "execution_count": 27,
   "id": "48e2ca83",
   "metadata": {},
   "outputs": [
    {
     "data": {
      "text/plain": [
       "'In'"
      ]
     },
     "execution_count": 27,
     "metadata": {},
     "output_type": "execute_result"
    }
   ],
   "source": [
    "country[0:2]"
   ]
  },
  {
   "cell_type": "code",
   "execution_count": 29,
   "id": "d60406e0",
   "metadata": {},
   "outputs": [
    {
     "data": {
      "text/plain": [
       "'Today is a sunny day'"
      ]
     },
     "execution_count": 29,
     "metadata": {},
     "output_type": "execute_result"
    }
   ],
   "source": [
    "x = \"Today is a sunny day\"\n",
    "x"
   ]
  },
  {
   "cell_type": "code",
   "execution_count": 30,
   "id": "5d039d19",
   "metadata": {},
   "outputs": [
    {
     "data": {
      "text/plain": [
       "'Today'"
      ]
     },
     "execution_count": 30,
     "metadata": {},
     "output_type": "execute_result"
    }
   ],
   "source": [
    "x[0:5]"
   ]
  },
  {
   "cell_type": "code",
   "execution_count": 32,
   "id": "9b708919",
   "metadata": {},
   "outputs": [
    {
     "data": {
      "text/plain": [
       "'sunny'"
      ]
     },
     "execution_count": 32,
     "metadata": {},
     "output_type": "execute_result"
    }
   ],
   "source": [
    "x[11:16]"
   ]
  },
  {
   "cell_type": "code",
   "execution_count": 34,
   "id": "080fdbdb",
   "metadata": {},
   "outputs": [
    {
     "data": {
      "text/plain": [
       "'ay'"
      ]
     },
     "execution_count": 34,
     "metadata": {},
     "output_type": "execute_result"
    }
   ],
   "source": [
    "x[-2:]"
   ]
  },
  {
   "cell_type": "code",
   "execution_count": 36,
   "id": "35a27f36",
   "metadata": {},
   "outputs": [
    {
     "data": {
      "text/plain": [
       "'yad ynnus a si yadoT'"
      ]
     },
     "execution_count": 36,
     "metadata": {},
     "output_type": "execute_result"
    }
   ],
   "source": [
    "x[::-1]"
   ]
  },
  {
   "cell_type": "code",
   "execution_count": 37,
   "id": "c01cd5cd",
   "metadata": {},
   "outputs": [],
   "source": [
    "mix_list_1 = ['Learn', 24, 'Blue', False, -8]\n",
    "\n",
    "mix_list_2 = [4, 7, 'Summer']"
   ]
  },
  {
   "cell_type": "code",
   "execution_count": 38,
   "id": "7836b48a",
   "metadata": {},
   "outputs": [
    {
     "data": {
      "text/plain": [
       "['Learn', 24, 'Blue', False, -8]"
      ]
     },
     "execution_count": 38,
     "metadata": {},
     "output_type": "execute_result"
    }
   ],
   "source": [
    "mix_list_1"
   ]
  },
  {
   "cell_type": "code",
   "execution_count": 39,
   "id": "51ad0fc0",
   "metadata": {},
   "outputs": [
    {
     "data": {
      "text/plain": [
       "[4, 7, 'Summer']"
      ]
     },
     "execution_count": 39,
     "metadata": {},
     "output_type": "execute_result"
    }
   ],
   "source": [
    "mix_list_2"
   ]
  },
  {
   "cell_type": "code",
   "execution_count": 40,
   "id": "7432afa6",
   "metadata": {},
   "outputs": [
    {
     "data": {
      "text/plain": [
       "5"
      ]
     },
     "execution_count": 40,
     "metadata": {},
     "output_type": "execute_result"
    }
   ],
   "source": [
    "len(mix_list_1)"
   ]
  },
  {
   "cell_type": "code",
   "execution_count": 41,
   "id": "1e295b4a",
   "metadata": {},
   "outputs": [
    {
     "data": {
      "text/plain": [
       "3"
      ]
     },
     "execution_count": 41,
     "metadata": {},
     "output_type": "execute_result"
    }
   ],
   "source": [
    "len(mix_list_2)"
   ]
  },
  {
   "cell_type": "code",
   "execution_count": 45,
   "id": "2bd0b16a",
   "metadata": {},
   "outputs": [
    {
     "data": {
      "text/plain": [
       "['Learn', 24, 'Blue', False, -8, 4, 7, 'Summer']"
      ]
     },
     "execution_count": 45,
     "metadata": {},
     "output_type": "execute_result"
    }
   ],
   "source": [
    "mix_list_1 + mix_list_2"
   ]
  },
  {
   "cell_type": "code",
   "execution_count": 46,
   "id": "904957bc",
   "metadata": {},
   "outputs": [
    {
     "data": {
      "text/plain": [
       "[4, 7, 'Summer', 4, 7, 'Summer', 4, 7, 'Summer']"
      ]
     },
     "execution_count": 46,
     "metadata": {},
     "output_type": "execute_result"
    }
   ],
   "source": [
    "mix_list_2 * 3"
   ]
  },
  {
   "cell_type": "code",
   "execution_count": 54,
   "id": "ca873e23",
   "metadata": {},
   "outputs": [],
   "source": [
    "num_list_1 = [1, 2, 3, 4]\n",
    "\n",
    "num_list_2 = [0, 5, 2, 1]"
   ]
  },
  {
   "cell_type": "code",
   "execution_count": 63,
   "id": "5e845098",
   "metadata": {},
   "outputs": [
    {
     "data": {
      "text/plain": [
       "[0, 10, 6, 4]"
      ]
     },
     "execution_count": 63,
     "metadata": {},
     "output_type": "execute_result"
    }
   ],
   "source": [
    "#Write the program to multiply the two lists\n",
    "num_list_3 = []\n",
    "for i in range(0,len(num_list_1)):\n",
    "               num_list_3.append(num_list_1[i]*num_list_2[i])\n",
    "num_list_3"
   ]
  },
  {
   "cell_type": "code",
   "execution_count": 64,
   "id": "ec48c671",
   "metadata": {},
   "outputs": [
    {
     "data": {
      "text/plain": [
       "[0, 10, 6, 4]"
      ]
     },
     "execution_count": 64,
     "metadata": {},
     "output_type": "execute_result"
    }
   ],
   "source": [
    "num_list_3"
   ]
  },
  {
   "cell_type": "code",
   "execution_count": 66,
   "id": "a19e1ab8",
   "metadata": {},
   "outputs": [
    {
     "data": {
      "text/plain": [
       "0"
      ]
     },
     "execution_count": 66,
     "metadata": {},
     "output_type": "execute_result"
    }
   ],
   "source": [
    "num_list_3[0]"
   ]
  },
  {
   "cell_type": "code",
   "execution_count": 67,
   "id": "b8f16147",
   "metadata": {},
   "outputs": [
    {
     "data": {
      "text/plain": [
       "6"
      ]
     },
     "execution_count": 67,
     "metadata": {},
     "output_type": "execute_result"
    }
   ],
   "source": [
    "num_list_3[-2]"
   ]
  },
  {
   "cell_type": "code",
   "execution_count": 69,
   "id": "7186d3b6",
   "metadata": {},
   "outputs": [
    {
     "data": {
      "text/plain": [
       "[0, 10, 6]"
      ]
     },
     "execution_count": 69,
     "metadata": {},
     "output_type": "execute_result"
    }
   ],
   "source": [
    "num_list_3[0:3]"
   ]
  },
  {
   "cell_type": "code",
   "execution_count": 70,
   "id": "2fedd4c3",
   "metadata": {},
   "outputs": [
    {
     "data": {
      "text/plain": [
       "[10, 4]"
      ]
     },
     "execution_count": 70,
     "metadata": {},
     "output_type": "execute_result"
    }
   ],
   "source": [
    "num_list_3[1:4:2]"
   ]
  },
  {
   "cell_type": "code",
   "execution_count": 71,
   "id": "8a8e7516",
   "metadata": {},
   "outputs": [
    {
     "data": {
      "text/plain": [
       "0"
      ]
     },
     "execution_count": 71,
     "metadata": {},
     "output_type": "execute_result"
    }
   ],
   "source": [
    "min(num_list_3)"
   ]
  },
  {
   "cell_type": "code",
   "execution_count": 72,
   "id": "5430a425",
   "metadata": {},
   "outputs": [
    {
     "data": {
      "text/plain": [
       "10"
      ]
     },
     "execution_count": 72,
     "metadata": {},
     "output_type": "execute_result"
    }
   ],
   "source": [
    "max(num_list_3)"
   ]
  },
  {
   "cell_type": "code",
   "execution_count": 73,
   "id": "6c622393",
   "metadata": {},
   "outputs": [
    {
     "data": {
      "text/plain": [
       "[0, 10, 6, 4]"
      ]
     },
     "execution_count": 73,
     "metadata": {},
     "output_type": "execute_result"
    }
   ],
   "source": [
    "num_list_3"
   ]
  },
  {
   "cell_type": "code",
   "execution_count": 74,
   "id": "6219ce93",
   "metadata": {},
   "outputs": [],
   "source": [
    "num_list_3.sort()"
   ]
  },
  {
   "cell_type": "code",
   "execution_count": 75,
   "id": "2924bee0",
   "metadata": {},
   "outputs": [
    {
     "data": {
      "text/plain": [
       "[0, 4, 6, 10]"
      ]
     },
     "execution_count": 75,
     "metadata": {},
     "output_type": "execute_result"
    }
   ],
   "source": [
    "num_list_3"
   ]
  },
  {
   "cell_type": "code",
   "execution_count": 76,
   "id": "87951e7c",
   "metadata": {},
   "outputs": [],
   "source": [
    "num_list_3.sort(reverse=True)"
   ]
  },
  {
   "cell_type": "code",
   "execution_count": 77,
   "id": "24168044",
   "metadata": {},
   "outputs": [
    {
     "data": {
      "text/plain": [
       "[10, 6, 4, 0]"
      ]
     },
     "execution_count": 77,
     "metadata": {},
     "output_type": "execute_result"
    }
   ],
   "source": [
    "num_list_3"
   ]
  },
  {
   "cell_type": "code",
   "execution_count": 78,
   "id": "e3285009",
   "metadata": {},
   "outputs": [],
   "source": [
    "num_list_3 = [4,5,7,-1, 0,1]"
   ]
  },
  {
   "cell_type": "code",
   "execution_count": 79,
   "id": "964065e5",
   "metadata": {},
   "outputs": [
    {
     "data": {
      "text/plain": [
       "5"
      ]
     },
     "execution_count": 79,
     "metadata": {},
     "output_type": "execute_result"
    }
   ],
   "source": [
    "num_list_3.pop(1)"
   ]
  },
  {
   "cell_type": "code",
   "execution_count": 80,
   "id": "deff6484",
   "metadata": {},
   "outputs": [],
   "source": [
    "#pop function removes element by index "
   ]
  },
  {
   "cell_type": "code",
   "execution_count": 81,
   "id": "11a629dd",
   "metadata": {},
   "outputs": [],
   "source": [
    "languages_list = ['R', 'Python', 'C', 'Java']"
   ]
  },
  {
   "cell_type": "code",
   "execution_count": 82,
   "id": "2f125f59",
   "metadata": {},
   "outputs": [],
   "source": [
    "languages_list.append(\"Data\")"
   ]
  },
  {
   "cell_type": "code",
   "execution_count": 83,
   "id": "9465fb4b",
   "metadata": {},
   "outputs": [
    {
     "data": {
      "text/plain": [
       "['R', 'Python', 'C', 'Java', 'Data']"
      ]
     },
     "execution_count": 83,
     "metadata": {},
     "output_type": "execute_result"
    }
   ],
   "source": [
    "languages_list"
   ]
  },
  {
   "cell_type": "code",
   "execution_count": 84,
   "id": "70d950f8",
   "metadata": {},
   "outputs": [],
   "source": [
    "languages_list.append('Excel')"
   ]
  },
  {
   "cell_type": "code",
   "execution_count": 85,
   "id": "426b4589",
   "metadata": {},
   "outputs": [
    {
     "data": {
      "text/plain": [
       "['R', 'Python', 'C', 'Java', 'Data', 'Excel']"
      ]
     },
     "execution_count": 85,
     "metadata": {},
     "output_type": "execute_result"
    }
   ],
   "source": [
    "languages_list"
   ]
  },
  {
   "cell_type": "code",
   "execution_count": 86,
   "id": "48649165",
   "metadata": {},
   "outputs": [],
   "source": [
    "languages_list[2]=\"c++\""
   ]
  },
  {
   "cell_type": "code",
   "execution_count": 87,
   "id": "4dfcea9b",
   "metadata": {},
   "outputs": [
    {
     "data": {
      "text/plain": [
       "['R', 'Python', 'c++', 'Java', 'Data', 'Excel']"
      ]
     },
     "execution_count": 87,
     "metadata": {},
     "output_type": "execute_result"
    }
   ],
   "source": [
    "languages_list"
   ]
  },
  {
   "cell_type": "code",
   "execution_count": 88,
   "id": "46265532",
   "metadata": {},
   "outputs": [],
   "source": [
    "seasons_list = ['Summer', 'Winter', 'Spring', 'Winter', 'Spring' ,'Summer', 'Spring', 'Summer', 'Winter', 'Summer', 'Spring']"
   ]
  },
  {
   "cell_type": "code",
   "execution_count": 89,
   "id": "4622739e",
   "metadata": {},
   "outputs": [
    {
     "data": {
      "text/plain": [
       "['Summer',\n",
       " 'Winter',\n",
       " 'Spring',\n",
       " 'Winter',\n",
       " 'Spring',\n",
       " 'Summer',\n",
       " 'Spring',\n",
       " 'Summer',\n",
       " 'Winter',\n",
       " 'Summer',\n",
       " 'Spring']"
      ]
     },
     "execution_count": 89,
     "metadata": {},
     "output_type": "execute_result"
    }
   ],
   "source": [
    "seasons_list"
   ]
  },
  {
   "cell_type": "code",
   "execution_count": 96,
   "id": "3faf3a99",
   "metadata": {},
   "outputs": [
    {
     "name": "stdout",
     "output_type": "stream",
     "text": [
      "4\n"
     ]
    }
   ],
   "source": [
    "summer_count=0\n",
    "for i in seasons_list:\n",
    "    if i==\"Summer\":\n",
    "        summer_count = summer_count +1\n",
    "print(summer_count)"
   ]
  },
  {
   "cell_type": "code",
   "execution_count": 97,
   "id": "df1626bb",
   "metadata": {},
   "outputs": [
    {
     "data": {
      "text/plain": [
       "4"
      ]
     },
     "execution_count": 97,
     "metadata": {},
     "output_type": "execute_result"
    }
   ],
   "source": [
    "seasons_list.count(\"Summer\")"
   ]
  },
  {
   "cell_type": "code",
   "execution_count": 98,
   "id": "21e97a1e",
   "metadata": {},
   "outputs": [],
   "source": [
    "num_tuple = (4, 4, 8)\n",
    "\n",
    "mix_tuple = 'John', 5, -2"
   ]
  },
  {
   "cell_type": "code",
   "execution_count": 102,
   "id": "b31d6679",
   "metadata": {},
   "outputs": [
    {
     "name": "stdout",
     "output_type": "stream",
     "text": [
      "HackerRank----------\n"
     ]
    }
   ],
   "source": [
    "width = 20\n",
    "print('HackerRank'.ljust(width,'-'))\n",
    " "
   ]
  },
  {
   "cell_type": "code",
   "execution_count": null,
   "id": "a4cdd54a",
   "metadata": {},
   "outputs": [],
   "source": [
    "pattern_height = 5  #(Number of rows)\n",
    "c = 'H'\n",
    "\n",
    "for i in range(pattern_height):\n",
    "    spaces = ' ' * (pattern_height - i - 1)\n",
    "    chars = c * (2 * i + 1)  \n",
    "    print(spaces + chars + spaces)\n",
    "\n",
    "        \n",
    "        \n",
    "    H     spaces= ' '*(5-0-1)    chars= h * (2 * 0+1)    spaces= ' '*(5-0-1)\n",
    "   HHH    spaces=' '*(5-1-1)     chars= h * (2 * 1+1)    spaces= ' '*(5-1-1)\n",
    "  HHHHH  \n",
    " HHHHHHH \n",
    "HHHHHHHHH"
   ]
  },
  {
   "cell_type": "code",
   "execution_count": null,
   "id": "a9a9b684",
   "metadata": {},
   "outputs": [],
   "source": [
    "chars= c * (2 * 0+1)\n",
    "\n",
    "chars"
   ]
  },
  {
   "cell_type": "code",
   "execution_count": 127,
   "id": "9377f3cb",
   "metadata": {},
   "outputs": [
    {
     "data": {
      "text/plain": [
       "'HHHH'"
      ]
     },
     "execution_count": 127,
     "metadata": {},
     "output_type": "execute_result"
    }
   ],
   "source": [
    "chars= c * (2 * 1+1)   #bodmas   #first divison and multiplicationa nd addition and subratction \n",
    "chars =c*(2*2)\n",
    "chars=c*(4)\n",
    "chars"
   ]
  },
  {
   "cell_type": "code",
   "execution_count": 126,
   "id": "731adc49",
   "metadata": {},
   "outputs": [
    {
     "data": {
      "text/plain": [
       "'HHHH'"
      ]
     },
     "execution_count": 126,
     "metadata": {},
     "output_type": "execute_result"
    }
   ],
   "source": [
    "chars=c*(4)\n",
    "chars"
   ]
  },
  {
   "cell_type": "code",
   "execution_count": null,
   "id": "385fe295",
   "metadata": {},
   "outputs": [],
   "source": []
  },
  {
   "cell_type": "raw",
   "id": "92ca37a2",
   "metadata": {},
   "source": [
    "    H    \n",
    "   HHH   \n",
    "  HHHHH  \n",
    " HHHHHHH \n",
    "HHHHHHHHH\n",
    "  HHHHH               HHHHH             \n",
    "  HHHHH               HHHHH             \n",
    "  HHHHH               HHHHH             \n",
    "  HHHHH               HHHHH             \n",
    "  HHHHH               HHHHH             \n",
    "  HHHHH               HHHHH             \n",
    "  HHHHHHHHHHHHHHHHHHHHHHHHH   \n",
    "  HHHHHHHHHHHHHHHHHHHHHHHHH   \n",
    "  HHHHHHHHHHHHHHHHHHHHHHHHH   \n",
    "  HHHHH               HHHHH             \n",
    "  HHHHH               HHHHH             \n",
    "  HHHHH               HHHHH             \n",
    "  HHHHH               HHHHH             \n",
    "  HHHHH               HHHHH             \n",
    "  HHHHH               HHHHH             \n",
    "                    HHHHHHHHH \n",
    "                     HHHHHHH  \n",
    "                      HHHHH   \n",
    "                       HHH    \n",
    "                        H "
   ]
  },
  {
   "cell_type": "code",
   "execution_count": 106,
   "id": "c575d805",
   "metadata": {},
   "outputs": [
    {
     "name": "stdout",
     "output_type": "stream",
     "text": [
      "20\n",
      "\n"
     ]
    },
    {
     "ename": "AttributeError",
     "evalue": "'NoneType' object has no attribute 'rjust'",
     "output_type": "error",
     "traceback": [
      "\u001b[1;31m---------------------------------------------------------------------------\u001b[0m",
      "\u001b[1;31mAttributeError\u001b[0m                            Traceback (most recent call last)",
      "\u001b[1;32m~\\AppData\\Local\\Temp\\ipykernel_1952\\3028297116.py\u001b[0m in \u001b[0;36m<module>\u001b[1;34m\u001b[0m\n\u001b[0;32m      4\u001b[0m \u001b[1;31m#Top Cone\u001b[0m\u001b[1;33m\u001b[0m\u001b[1;33m\u001b[0m\u001b[0m\n\u001b[0;32m      5\u001b[0m \u001b[1;32mfor\u001b[0m \u001b[0mi\u001b[0m \u001b[1;32min\u001b[0m \u001b[0mrange\u001b[0m\u001b[1;33m(\u001b[0m\u001b[0mthickness\u001b[0m\u001b[1;33m)\u001b[0m\u001b[1;33m:\u001b[0m\u001b[1;33m\u001b[0m\u001b[1;33m\u001b[0m\u001b[0m\n\u001b[1;32m----> 6\u001b[1;33m     \u001b[0mprint\u001b[0m \u001b[1;33m(\u001b[0m\u001b[0mc\u001b[0m\u001b[1;33m*\u001b[0m\u001b[0mi\u001b[0m\u001b[1;33m)\u001b[0m\u001b[1;33m.\u001b[0m\u001b[0mrjust\u001b[0m\u001b[1;33m(\u001b[0m\u001b[0mthickness\u001b[0m \u001b[1;33m-\u001b[0m \u001b[1;36m1\u001b[0m\u001b[1;33m)\u001b[0m \u001b[1;33m+\u001b[0m \u001b[0mc\u001b[0m \u001b[1;33m+\u001b[0m \u001b[1;33m(\u001b[0m\u001b[0mc\u001b[0m\u001b[1;33m*\u001b[0m\u001b[0mi\u001b[0m\u001b[1;33m)\u001b[0m\u001b[1;33m.\u001b[0m\u001b[0mljust\u001b[0m\u001b[1;33m(\u001b[0m\u001b[0mthickness\u001b[0m \u001b[1;33m-\u001b[0m \u001b[1;36m1\u001b[0m\u001b[1;33m)\u001b[0m\u001b[1;33m\u001b[0m\u001b[1;33m\u001b[0m\u001b[0m\n\u001b[0m",
      "\u001b[1;31mAttributeError\u001b[0m: 'NoneType' object has no attribute 'rjust'"
     ]
    }
   ],
   "source": [
    "thickness = int(input())  # This must be an odd number\n",
    "c = 'H'\n",
    "\n",
    "#Top Cone\n",
    "for i in range(thickness):\n",
    "    print (c*i).rjust(thickness - 1) + c + (c*i).ljust(thickness - 1)"
   ]
  },
  {
   "cell_type": "raw",
   "id": "382c5e9a",
   "metadata": {},
   "source": [
    "  HHHHH               HHHHH             \n",
    "  HHHHH               HHHHH             \n",
    "  HHHHH               HHHHH             \n",
    "  HHHHH               HHHHH             \n",
    "  HHHHH               HHHHH             \n",
    "  HHHHH               HHHHH \n",
    "\n",
    "\n",
    "2 spaces 5hs 15 spaces 5hs \n",
    "pattern_height = 6  #six rows \n",
    "for i in pattern_height:\n",
    "    print(\"H\")"
   ]
  },
  {
   "cell_type": "code",
   "execution_count": 141,
   "id": "48086ef8",
   "metadata": {},
   "outputs": [
    {
     "name": "stdout",
     "output_type": "stream",
     "text": [
      "    H    \n",
      "   HHH   \n",
      "  HHHHH  \n",
      " HHHHHHH \n",
      "HHHHHHHHH\n",
      "  HHHHH               HHHHH\n",
      "  HHHHH               HHHHH\n",
      "  HHHHH               HHHHH\n",
      "  HHHHH               HHHHH\n",
      "  HHHHH               HHHHH\n",
      "  HHHHH               HHHHH\n",
      "  HHHHHHHHHHHHHHHHHHHHHHHHH\n",
      "  HHHHHHHHHHHHHHHHHHHHHHHHH\n",
      "  HHHHHHHHHHHHHHHHHHHHHHHHH\n",
      "  HHHHH               HHHHH\n",
      "  HHHHH               HHHHH\n",
      "  HHHHH               HHHHH\n",
      "  HHHHH               HHHHH\n",
      "  HHHHH               HHHHH\n",
      "  HHHHH               HHHHH\n"
     ]
    }
   ],
   "source": [
    "\n",
    "pattern_height = 5  #(Number of rows)\n",
    "c = 'H'\n",
    "\n",
    "for i in range(pattern_height):\n",
    "    spaces = ' ' * (pattern_height - i - 1)\n",
    "    chars = c * (2 * i + 1)  \n",
    "    print(spaces + chars + spaces)\n",
    "pattern_height = 6  #six rows \n",
    "for i in range(pattern_height):\n",
    "        first_spaces = ' ' * 2\n",
    "        second_spaces=' '*15\n",
    "        chars = c * (5)  \n",
    "        print(first_spaces + chars + second_spaces+chars)\n",
    "pattern_height = 3  #six rows \n",
    "for i in range(pattern_height):\n",
    "        two_spaces = ' ' * 2\n",
    "        chars = c * (25)  \n",
    "        print(two_spaces + chars) \n",
    "pattern_height = 6  #six rows \n",
    "for i in range(pattern_height):\n",
    "        first_spaces = ' ' * 2\n",
    "        second_spaces=' '*15\n",
    "        chars = c * (5)  \n",
    "        print(first_spaces + chars + second_spaces+chars)\n",
    "    \n",
    "    "
   ]
  },
  {
   "cell_type": "code",
   "execution_count": 139,
   "id": "a17d4c92",
   "metadata": {},
   "outputs": [
    {
     "name": "stdout",
     "output_type": "stream",
     "text": [
      "  HHHHHHHHHHHHHHHHHHHHHHHHH\n",
      "  HHHHHHHHHHHHHHHHHHHHHHHHH\n",
      "  HHHHHHHHHHHHHHHHHHHHHHHHH\n"
     ]
    }
   ],
   "source": [
    "#HHHHHHHHHHHHHHHHHHHHHHHHH   \n",
    "#HHHHHHHHHHHHHHHHHHHHHHHHH   \n",
    "#HHHHHHHHHHHHHHHHHHHHHHHHH\n",
    "#2 spaces #25hs\n",
    "pattern_height = 3  #six rows \n",
    "for i in range(pattern_height):\n",
    "        two_spaces = ' ' * 2\n",
    "        chars = c * (25)  \n",
    "        print(two_spaces + chars)  \n",
    "    "
   ]
  },
  {
   "cell_type": "code",
   "execution_count": 143,
   "id": "5cbceb4b",
   "metadata": {},
   "outputs": [
    {
     "name": "stdout",
     "output_type": "stream",
     "text": [
      "    H    \n",
      "   HHH   \n",
      "  HHHHH  \n",
      " HHHHHHH \n",
      "HHHHHHHHH\n",
      "  HHHHH               HHHHH\n",
      "  HHHHH               HHHHH\n",
      "  HHHHH               HHHHH\n",
      "  HHHHH               HHHHH\n",
      "  HHHHH               HHHHH\n",
      "  HHHHH               HHHHH\n",
      "  HHHHHHHHHHHHHHHHHHHHHHHHH\n",
      "  HHHHHHHHHHHHHHHHHHHHHHHHH\n",
      "  HHHHHHHHHHHHHHHHHHHHHHHHH\n",
      "  HHHHH               HHHHH\n",
      "  HHHHH               HHHHH\n",
      "  HHHHH               HHHHH\n",
      "  HHHHH               HHHHH\n",
      "  HHHHH               HHHHH\n",
      "  HHHHH               HHHHH\n"
     ]
    }
   ],
   "source": [
    "\n",
    "pattern_height = 5  #(Number of rows)\n",
    "c = 'H'\n",
    "\n",
    "for i in range(pattern_height):\n",
    "    spaces = ' ' * (pattern_height - i - 1)\n",
    "    chars = c * (2 * i + 1)  \n",
    "    print(spaces + chars + spaces)\n",
    "pattern_height = 6  #six rows \n",
    "for i in range(pattern_height):\n",
    "        first_spaces = ' ' * 2\n",
    "        second_spaces=' '*15\n",
    "        chars = c * (5)  \n",
    "        print(first_spaces + chars + second_spaces+chars)\n",
    "pattern_height = 3  #six rows \n",
    "for i in range(pattern_height):\n",
    "        two_spaces = ' ' * 2\n",
    "        chars = c * (25)  \n",
    "        print(two_spaces + chars) \n",
    "pattern_height = 6  #six rows \n",
    "for i in range(pattern_height):\n",
    "        first_spaces = ' ' * 2\n",
    "        second_spaces=' '*15\n",
    "        chars = c * (5)  \n",
    "        print(first_spaces + chars + second_spaces+chars)   "
   ]
  },
  {
   "cell_type": "raw",
   "id": "6ea6ae4b",
   "metadata": {},
   "source": [
    "                    HHHHHHHHH \n",
    "                     HHHHHHH  \n",
    "                      HHHHH   \n",
    "                       HHH    \n",
    "                        H \n",
    "                    \n",
    "    "
   ]
  },
  {
   "cell_type": "code",
   "execution_count": 144,
   "id": "8e595764",
   "metadata": {},
   "outputs": [
    {
     "name": "stdout",
     "output_type": "stream",
     "text": [
      "    H    \n",
      "   HHH   \n",
      "  HHHHH  \n",
      " HHHHHHH \n",
      "HHHHHHHHH\n"
     ]
    }
   ],
   "source": [
    "pattern_height = 5  #(Number of rows)\n",
    "c = 'H'\n",
    "\n",
    "for i in range(5):\n",
    "    spaces = ' ' * (pattern_height - i - 1)\n",
    "    chars = c * (2 * i + 1)  \n",
    "    print(spaces + chars + spaces)"
   ]
  },
  {
   "cell_type": "code",
   "execution_count": 145,
   "id": "fe3879a4",
   "metadata": {},
   "outputs": [
    {
     "name": "stdout",
     "output_type": "stream",
     "text": [
      "HHHHH\n",
      " HHHH\n",
      "  HHH\n",
      "   HH\n",
      "    H\n"
     ]
    }
   ],
   "source": [
    "pattern_height = 5\n",
    "c = 'H'\n",
    "\n",
    "for i in range(pattern_height):\n",
    "    spaces = ' ' * i\n",
    "    chars = c * (pattern_height - i)\n",
    "    print(spaces + chars)\n"
   ]
  },
  {
   "cell_type": "raw",
   "id": "4d3a0dc1",
   "metadata": {},
   "source": [
    "ABCDEFGHIJKLIMNOQRSTUVWXYZ\n",
    "4   to \n",
    "ABCD\n",
    "EFGH\n",
    "IJKL\n",
    "IMNO\n",
    "QRST\n",
    "UVWX\n",
    "YZ"
   ]
  },
  {
   "cell_type": "code",
   "execution_count": 150,
   "id": "9e141655",
   "metadata": {},
   "outputs": [
    {
     "name": "stdout",
     "output_type": "stream",
     "text": [
      "ABCD\n",
      "EFGH\n",
      "IJKL\n",
      "MNOP\n",
      "QRST\n",
      "UVWX\n",
      "YZ\n"
     ]
    }
   ],
   "source": [
    "s = \"ABCDEFGHIJKLMNOPQRSTUVWXYZ\"\n",
    "#letters per line = 4\n",
    "for i in range(0, len(s),4):\n",
    "    print(s[i:i+4])"
   ]
  },
  {
   "cell_type": "code",
   "execution_count": 159,
   "id": "368e2315",
   "metadata": {},
   "outputs": [
    {
     "name": "stdout",
     "output_type": "stream",
     "text": [
      "ABCD\n",
      "EFGH\n",
      "IJKL\n",
      "MNOP\n",
      "QRST\n",
      "UVWX\n",
      "YZ\n"
     ]
    }
   ],
   "source": [
    "for i in range(0,26,4):\n",
    "    print(s[i:i+4])"
   ]
  },
  {
   "cell_type": "code",
   "execution_count": 167,
   "id": "fe3dd08b",
   "metadata": {},
   "outputs": [],
   "source": [
    "import textwrap\n",
    "\n",
    "string = \"ABCDEFGHIJKLMNOPQRSTUVWXYZ\"\n",
    "width = 4\n",
    "def wrap(string, max_width):\n",
    "   wrapped = [string[i:i+width] for i in range(len(string),width)]\n",
    "   return \"\\n\".join(wrapped)\n",
    "\n"
   ]
  },
  {
   "cell_type": "code",
   "execution_count": null,
   "id": "6b03afdd",
   "metadata": {},
   "outputs": [],
   "source": [
    "string = \"ABCDEFGHIJKLMNOPQRSTUVWXYZ\"\n",
    "width = 4\n",
    "\n",
    "def wrap(string, max_width):\n",
    "    wrapped = [string[i:i+max_width] for i in range(0, len(string), max_width)]\n",
    "    return '\\n'.join(wrapped)\n",
    "\n",
    "if __name__ == '__main__':\n",
    "    wrapped_string = wrap(string, width)\n",
    "    print(wrapped_string)\n"
   ]
  }
 ],
 "metadata": {
  "kernelspec": {
   "display_name": "Python 3 (ipykernel)",
   "language": "python",
   "name": "python3"
  },
  "language_info": {
   "codemirror_mode": {
    "name": "ipython",
    "version": 3
   },
   "file_extension": ".py",
   "mimetype": "text/x-python",
   "name": "python",
   "nbconvert_exporter": "python",
   "pygments_lexer": "ipython3",
   "version": "3.9.13"
  }
 },
 "nbformat": 4,
 "nbformat_minor": 5
}
